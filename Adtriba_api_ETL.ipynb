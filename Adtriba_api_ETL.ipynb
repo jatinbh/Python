{
 "cells": [
  {
   "cell_type": "code",
   "execution_count": 1,
   "id": "8ae46726",
   "metadata": {
    "tags": []
   },
   "outputs": [],
   "source": [
    "\n",
    "import pandas as pd\n",
    "from pandas import json_normalize\n",
    "import json\n",
    "\n",
    "import re\n",
    "\n",
    "import requests\n",
    "from requests.auth import HTTPDigestAuth\n",
    "from urllib.parse import urlparse, parse_qs\n",
    "\n",
    "\n",
    "import os\n",
    "from google.cloud import bigquery"
   ]
  },
  {
   "cell_type": "markdown",
   "id": "ddba5576-ebbc-4c6e-ade9-c550901b754e",
   "metadata": {},
   "source": [
    "# Thinking through the Medallion architecture "
   ]
  },
  {
   "cell_type": "code",
   "execution_count": 2,
   "id": "52c042e1",
   "metadata": {},
   "outputs": [],
   "source": [
    "# bronze layer\n",
    "class extraction_layer:\n",
    "    def __init__(self, _url, username= None, password= None, api_key= None):\n",
    "        self._url= _url\n",
    "        self.headers= {}\n",
    "        if username and password:\n",
    "            self.auth = HTTPDigestAuth(username, password)\n",
    "            \n",
    "        if api_key:\n",
    "            self.headers['x-api-key'] = api_key\n",
    "            \n",
    "    \n",
    "    def connect_(self, endpoint= None):\n",
    "        \n",
    "        url= f\"{self._url}{endpoint}\"\n",
    "        response = requests.get(url, auth=self.auth, headers=self.headers)\n",
    "        \n",
    "        if response.status_code == 200:\n",
    "            print(f'Connection successful: {response.status_code}')\n",
    "            return response# .json()\n",
    "        else:\n",
    "            print(f'Error: {response.status_code}')\n",
    "            return None\n",
    "            "
   ]
  },
  {
   "cell_type": "code",
   "execution_count": 3,
   "id": "3326a394",
   "metadata": {},
   "outputs": [],
   "source": [
    "# Silver layer\n",
    "class data_t:\n",
    "    \n",
    "    # try exception can used to any error\n",
    "    #def __init__(self, data=None):\n",
    "     #   self.data = data  # Instance variable to hold data if needed\n",
    "    \n",
    "    def extract_utm_params(self, url):\n",
    "        parsed_url = urlparse(url)\n",
    "        query_params = parse_qs(parsed_url.query)\n",
    "        # Extract parameters, defaulting to None if not present\n",
    "        utm_source = query_params.get('utm_source', [None])[0]\n",
    "        utm_campaign = query_params.get('utm_campaign', [None])[0]\n",
    "        utm_medium = query_params.get('utm_medium', [None])[0]\n",
    "        gclid = query_params.get('gclid', [None])[0]\n",
    "        return pd.Series([utm_source, utm_campaign, utm_medium, gclid])\n",
    "         \n",
    "    def map_channel(self, row):\n",
    "        # Rule 1- If `utm_medium` matches organic then channel is \"Organic Search\"\n",
    "        if row['utm_medium'] and row['utm_medium'].strip().lower() == 'organic': # to avoid AttributeError: 'NoneType' object has no attribute 'strip', checking row['utm_medium'] is not None before calling strip()\n",
    "            return 'Organic Search'\n",
    "        # Rule 2- If `utm_medium` matches ^(social|sm).* then channel is \"Social\"\n",
    "        elif re.match(r'^(social|sm).*', str(row['utm_medium']), re.IGNORECASE):\n",
    "            return 'Social'\n",
    "        # Rule 3- If `utm_source` matches ^(facebook|instagram|ig|fb|linkedin)$ then channel is \"Social\"\n",
    "        elif re.match(r'^(facebook|instagram|ig|fb|linkedin)$', str(row['utm_source']), re.IGNORECASE):\n",
    "            return 'Social'\n",
    "        # Rule 4-  If `utm_medium` matches email then channel is \"Email\"\n",
    "        elif row['utm_medium'] and row['utm_medium'].strip().lower() == 'email': # to avoid AttributeError: 'NoneType' object has no attribute 'strip'\n",
    "            return 'Email'\n",
    "        # Rule 5- If `utm_medium` matches ^(cpc|ppc|paid|paidsearch)$ then channel is \"Paid Search\"\n",
    "        elif re.match(r'^(cpc|ppc|paid|paidsearch)$', str(row['utm_medium']), re.IGNORECASE):\n",
    "            return 'Paid Search'\n",
    "        # Rule 6- If `gclid` is not NULL then channel is \"Paid Search\"\n",
    "        elif pd.notna(row['gclid']):\n",
    "            return 'Paid Search'\n",
    "        # Rule 7- If `utm_source` matches .*(google|yahoo).* then channel is \"Paid Search\"\n",
    "        elif re.search(r'(google|yahoo)', str(row['utm_source']), re.IGNORECASE):\n",
    "            return 'Paid Search'\n",
    "        # Rule 8- If `utm_source`, `utm_campaign`, and `utm_medium` are NULL and referrer_domain is not then channel is \"Referral\"\n",
    "\n",
    "        elif pd.isna(row['utm_source']) and pd.isna(row['utm_campaign']) and pd.isna(row['utm_medium']) and pd.notna(row['referrer_domain']):\n",
    "            return 'Referral'\n",
    "        # Rule 9- If `utm_source`, `utm_campaign`, `utm_medium`, and `referrer_domain` are NULL then channel is \"Direct\"\n",
    "        elif pd.isna(row['utm_source']) and pd.isna(row['utm_campaign']) and pd.isna(row['utm_medium']) and pd.isna(row['referrer_domain']):\n",
    "            return 'Direct'\n",
    "        # Rule 10\n",
    "        else:\n",
    "            return 'Unknown'\n",
    "\n",
    "    def trans(self, response):\n",
    "        print(response)\n",
    "        r = response.text\n",
    "        #print(r)\n",
    "        jsondata = json.loads(r)\n",
    "        df = pd.json_normalize(jsondata)\n",
    "        df_n = df\n",
    "\n",
    "        df_n[['utm_source', 'utm_campaign', 'utm_medium', 'gclid']] = df_n['location'].apply(self.extract_utm_params)\n",
    "        \n",
    "        df_n['channel'] = df_n.apply(self.map_channel, axis=1)\n",
    "        return df_n"
   ]
  },
  {
   "cell_type": "code",
   "execution_count": 4,
   "id": "db3c2bba",
   "metadata": {},
   "outputs": [],
   "source": [
    "conn_obj= extraction_layer( _url='https://de-demo-api.adtriba.app',\n",
    "    username='de-demo-api',\n",
    "    password='woope1Pei5zieg',\n",
    "    api_key= 'woope1Pei5zieg')"
   ]
  },
  {
   "cell_type": "code",
   "execution_count": 5,
   "id": "e78d9513",
   "metadata": {},
   "outputs": [
    {
     "name": "stdout",
     "output_type": "stream",
     "text": [
      "Connection successful: 200\n"
     ]
    }
   ],
   "source": [
    "response= conn_obj.connect_('/v1/api/data')"
   ]
  },
  {
   "cell_type": "code",
   "execution_count": 6,
   "id": "f8af0fe7",
   "metadata": {
    "tags": []
   },
   "outputs": [
    {
     "data": {
      "text/plain": [
       "<Response [200]>"
      ]
     },
     "execution_count": 6,
     "metadata": {},
     "output_type": "execute_result"
    }
   ],
   "source": [
    "response"
   ]
  },
  {
   "cell_type": "code",
   "execution_count": 7,
   "id": "b00ddd92",
   "metadata": {
    "scrolled": true
   },
   "outputs": [
    {
     "name": "stdout",
     "output_type": "stream",
     "text": [
      "<Response [200]>\n"
     ]
    }
   ],
   "source": [
    "obj1= data_t()\n",
    "df_m= obj1.trans(response)"
   ]
  },
  {
   "cell_type": "markdown",
   "id": "5f8e9149-2e10-4dd8-a401-83e491144df5",
   "metadata": {},
   "source": [
    "# Gold layer"
   ]
  },
  {
   "cell_type": "code",
   "execution_count": 8,
   "id": "eee55426",
   "metadata": {},
   "outputs": [],
   "source": [
    "os.environ['GOOGLE_APPLICATION_CREDENTIALS'] = r'C:\\Users\\bhard\\Funnel\\booking-26091-6274ab5fe09a.json'  # Bigquery credentials json"
   ]
  },
  {
   "cell_type": "code",
   "execution_count": 9,
   "id": "1f96e7ee",
   "metadata": {},
   "outputs": [],
   "source": [
    "\n",
    "# Initialize the BigQuery client\n",
    "client = bigquery.Client()"
   ]
  },
  {
   "cell_type": "code",
   "execution_count": 10,
   "id": "af68fcaa",
   "metadata": {},
   "outputs": [
    {
     "name": "stdout",
     "output_type": "stream",
     "text": [
      "Deleted table booking-26091.api_marketing_adtriba.api_marketing.\n",
      "7616 rows are loaded into booking-26091.api_marketing_adtriba.api_marketing.\n"
     ]
    }
   ],
   "source": [
    "\n",
    "# Define table ID\n",
    "project_id = 'booking-26091'\n",
    "dataset_id = 'api_marketing_adtriba'\n",
    "table_name = 'api_marketing'\n",
    "table_id = f\"{project_id}.{dataset_id}.{table_name}\"\n",
    "\n",
    "try:\n",
    "    client.delete_table(table_id)\n",
    "    print(f\"Deleted table {table_id}.\")\n",
    "except Exception as e:\n",
    "    print(f\"Table {table_id} does not exist or could not be deleted: {e}\")\n",
    "\n",
    "# Load DataFrame\n",
    "job_config = bigquery.LoadJobConfig(write_disposition=bigquery.WriteDisposition.WRITE_TRUNCATE)\n",
    "job = client.load_table_from_dataframe(df_m, table_id, job_config=job_config)\n",
    "job.result()  # Wait for the job to complete\n",
    "\n",
    "print(f\"{job.output_rows} rows are loaded into {table_id}.\")\n"
   ]
  },
  {
   "cell_type": "code",
   "execution_count": null,
   "id": "1f3f57bf-3f51-436f-a121-7124539b0046",
   "metadata": {},
   "outputs": [],
   "source": []
  }
 ],
 "metadata": {
  "kernelspec": {
   "display_name": "Python 3",
   "language": "python",
   "name": "python3"
  },
  "language_info": {
   "codemirror_mode": {
    "name": "ipython",
    "version": 3
   },
   "file_extension": ".py",
   "mimetype": "text/x-python",
   "name": "python",
   "nbconvert_exporter": "python",
   "pygments_lexer": "ipython3",
   "version": "3.9.5"
  }
 },
 "nbformat": 4,
 "nbformat_minor": 5
}
